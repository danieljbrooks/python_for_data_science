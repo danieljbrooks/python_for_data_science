{
 "cells": [
  {
   "cell_type": "markdown",
   "metadata": {},
   "source": [
    "# Machine Learning with Python\n",
    "\n",
    "## Components\n",
    "Data -> Model -> Prediction <br>\n",
    "\n",
    "### Data\n",
    "Often needs to be processed. (Keep this step separate!) <br>\n",
    "Stored in a python data structure. <br>\n",
    "\n",
    "### Prediction\n",
    "What do you want to predict? \n",
    "Needs to be predictable from data.\n",
    "For example, cost of a bottle of wine from label.\n",
    "\n",
    "### Model\n",
    "Which model do you use?\n",
    "Sklearn contains a number of popular models."
   ]
  },
  {
   "cell_type": "markdown",
   "metadata": {},
   "source": [
    "## An sklearn example\n",
    "\n",
    "-Load and train a model. <br>"
   ]
  },
  {
   "cell_type": "markdown",
   "metadata": {},
   "source": [
    "## Cross Validation\n",
    "-Explain overfitting. <br>\n",
    "-Split up dataset into train, test, and holdout. <br>"
   ]
  },
  {
   "cell_type": "markdown",
   "metadata": {},
   "source": [
    "## Model Tuning\n",
    "-Try multiple models. <br>\n",
    "-Minimize CV error. When done, check on holdout set. <br>"
   ]
  }
 ],
 "metadata": {
  "kernelspec": {
   "display_name": "Python 3",
   "language": "python",
   "name": "python3"
  },
  "language_info": {
   "codemirror_mode": {
    "name": "ipython",
    "version": 3
   },
   "file_extension": ".py",
   "mimetype": "text/x-python",
   "name": "python",
   "nbconvert_exporter": "python",
   "pygments_lexer": "ipython3",
   "version": "3.6.4"
  }
 },
 "nbformat": 4,
 "nbformat_minor": 2
}
